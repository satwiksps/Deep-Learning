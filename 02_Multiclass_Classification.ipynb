{
  "nbformat": 4,
  "nbformat_minor": 0,
  "metadata": {
    "colab": {
      "provenance": [],
      "gpuType": "V28",
      "authorship_tag": "ABX9TyO75rvG8ls2Jme2iF3EBYDH",
      "include_colab_link": true
    },
    "kernelspec": {
      "name": "python3",
      "display_name": "Python 3"
    },
    "language_info": {
      "name": "python"
    },
    "accelerator": "TPU"
  },
  "cells": [
    {
      "cell_type": "markdown",
      "metadata": {
        "id": "view-in-github",
        "colab_type": "text"
      },
      "source": [
        "<a href=\"https://colab.research.google.com/github/satwiksps/Deep-Learning/blob/main/02_Multiclass_Classification.ipynb\" target=\"_parent\"><img src=\"https://colab.research.google.com/assets/colab-badge.svg\" alt=\"Open In Colab\"/></a>"
      ]
    },
    {
      "cell_type": "code",
      "execution_count": 16,
      "metadata": {
        "id": "FH3Nz2dbNfBk"
      },
      "outputs": [],
      "source": [
        "import numpy as np\n",
        "import pandas as pd\n",
        "import matplotlib.pyplot as plt\n",
        "from sklearn.model_selection import train_test_split\n",
        "from sklearn.preprocessing import StandardScaler\n",
        "from sklearn.metrics import classification_report,accuracy_score,confusion_matrix\n",
        "from tensorflow.keras.models import Sequential\n",
        "from tensorflow.keras.layers import Dense"
      ]
    },
    {
      "cell_type": "code",
      "source": [
        "#Pima-Indian-Diabetes Dataset\n",
        "from pandas import read_csv\n",
        "url = 'https://raw.githubusercontent.com/jbrownlee/Datasets/master/iris.csv' #Load CSV using Pandas\n",
        "column_names = ['sepal_length', 'sepal_width', 'petal_length', 'petal_width', 'species'] #Define column names\n",
        "data = read_csv(url, names=column_names) #Load CSV using Pandas\n",
        "array = data.values #Convert to NumPy array\n",
        "X = array[:,0:4] #Split into input column\n",
        "y = array[:,4] #Split into output column\n",
        "from sklearn.preprocessing import LabelEncoder\n",
        "from tensorflow.keras.utils import to_categorical\n",
        "# Encode labels\n",
        "label_encoder = LabelEncoder()\n",
        "integer_encoded = label_encoder.fit_transform(y)\n",
        "Y = to_categorical(integer_encoded)\n",
        "X_train, X_test, Y_train, Y_test = train_test_split(X, Y, test_size=0.33, random_state=7) #Split into train and test sets"
      ],
      "metadata": {
        "id": "eA2s_2fiOLqa"
      },
      "execution_count": 17,
      "outputs": []
    },
    {
      "cell_type": "code",
      "source": [
        "scaler = StandardScaler ()\n",
        "X_train = scaler . fit_transform ( X_train )\n",
        "X_test = scaler . transform ( X_test )"
      ],
      "metadata": {
        "id": "7RrQ6MMZOXuf"
      },
      "execution_count": 18,
      "outputs": []
    },
    {
      "cell_type": "code",
      "source": [
        "\n",
        "\n",
        "model = Sequential([\n",
        "    Dense(64, activation='relu', input_shape=(X_train.shape[1],)),  # First layer: Dense layer with 16 neurons, ReLU activation, and input shape defined by the number of features in X_train\n",
        "    Dense(32, activation='relu'),  # Second layer: Dense layer with 8 neurons and ReLU activation\n",
        "    Dense(3, activation='softmax')  # Output layer: Dense layer with 3 neurons and softmax activation\n",
        "])\n",
        "\n",
        "# Line 3: Compiling the model\n",
        "model.compile(\n",
        "    optimizer='adam',  # Optimizer: Adam optimizer\n",
        "    loss='categorical_crossentropy',  # Loss function: Categorical cross-entropy loss\n",
        "    metrics=['accuracy']  # Metrics: Accuracy\n",
        ")\n",
        "\n",
        "# Line 4: Training the model\n",
        "history = model.fit(\n",
        "    X_train,  # Training data features\n",
        "    Y_train,  # Training data labels\n",
        "    epochs=50,  # Number of epochs (iterations over the entire dataset)\n",
        "    validation_split=0.2,  # Fraction of training data to be used as validation data\n",
        "    batch_size=10  # Number of samples per gradient update\n",
        ")"
      ],
      "metadata": {
        "colab": {
          "base_uri": "https://localhost:8080/"
        },
        "id": "xVrIMI_ejV6M",
        "outputId": "efd39306-8563-41c1-ada5-ef49a92d1867"
      },
      "execution_count": 19,
      "outputs": [
        {
          "output_type": "stream",
          "name": "stdout",
          "text": [
            "Epoch 1/50\n",
            "8/8 [==============================] - 1s 26ms/step - loss: 1.0544 - accuracy: 0.5125 - val_loss: 0.9467 - val_accuracy: 0.4500\n",
            "Epoch 2/50\n",
            "8/8 [==============================] - 0s 6ms/step - loss: 0.8873 - accuracy: 0.5875 - val_loss: 0.8215 - val_accuracy: 0.7500\n",
            "Epoch 3/50\n",
            "8/8 [==============================] - 0s 6ms/step - loss: 0.7606 - accuracy: 0.7250 - val_loss: 0.7232 - val_accuracy: 0.9500\n",
            "Epoch 4/50\n",
            "8/8 [==============================] - 0s 6ms/step - loss: 0.6583 - accuracy: 0.8375 - val_loss: 0.6421 - val_accuracy: 0.9000\n",
            "Epoch 5/50\n",
            "8/8 [==============================] - 0s 6ms/step - loss: 0.5801 - accuracy: 0.8500 - val_loss: 0.5703 - val_accuracy: 0.9000\n",
            "Epoch 6/50\n",
            "8/8 [==============================] - 0s 7ms/step - loss: 0.5136 - accuracy: 0.8625 - val_loss: 0.5091 - val_accuracy: 0.9000\n",
            "Epoch 7/50\n",
            "8/8 [==============================] - 0s 6ms/step - loss: 0.4608 - accuracy: 0.8750 - val_loss: 0.4503 - val_accuracy: 0.9000\n",
            "Epoch 8/50\n",
            "8/8 [==============================] - 0s 6ms/step - loss: 0.4124 - accuracy: 0.8750 - val_loss: 0.3985 - val_accuracy: 0.9500\n",
            "Epoch 9/50\n",
            "8/8 [==============================] - 0s 6ms/step - loss: 0.3759 - accuracy: 0.8625 - val_loss: 0.3570 - val_accuracy: 0.9500\n",
            "Epoch 10/50\n",
            "8/8 [==============================] - 0s 7ms/step - loss: 0.3412 - accuracy: 0.8750 - val_loss: 0.3178 - val_accuracy: 0.9500\n",
            "Epoch 11/50\n",
            "8/8 [==============================] - 0s 6ms/step - loss: 0.3152 - accuracy: 0.8625 - val_loss: 0.2851 - val_accuracy: 0.9500\n",
            "Epoch 12/50\n",
            "8/8 [==============================] - 0s 6ms/step - loss: 0.2919 - accuracy: 0.8750 - val_loss: 0.2569 - val_accuracy: 0.9500\n",
            "Epoch 13/50\n",
            "8/8 [==============================] - 0s 6ms/step - loss: 0.2733 - accuracy: 0.8625 - val_loss: 0.2350 - val_accuracy: 0.9500\n",
            "Epoch 14/50\n",
            "8/8 [==============================] - 0s 6ms/step - loss: 0.2566 - accuracy: 0.8625 - val_loss: 0.2132 - val_accuracy: 0.9500\n",
            "Epoch 15/50\n",
            "8/8 [==============================] - 0s 6ms/step - loss: 0.2415 - accuracy: 0.8750 - val_loss: 0.1979 - val_accuracy: 0.9500\n",
            "Epoch 16/50\n",
            "8/8 [==============================] - 0s 6ms/step - loss: 0.2298 - accuracy: 0.9000 - val_loss: 0.1835 - val_accuracy: 0.9500\n",
            "Epoch 17/50\n",
            "8/8 [==============================] - 0s 7ms/step - loss: 0.2184 - accuracy: 0.9000 - val_loss: 0.1730 - val_accuracy: 0.9500\n",
            "Epoch 18/50\n",
            "8/8 [==============================] - 0s 7ms/step - loss: 0.2081 - accuracy: 0.9000 - val_loss: 0.1611 - val_accuracy: 0.9500\n",
            "Epoch 19/50\n",
            "8/8 [==============================] - 0s 7ms/step - loss: 0.1976 - accuracy: 0.9000 - val_loss: 0.1505 - val_accuracy: 1.0000\n",
            "Epoch 20/50\n",
            "8/8 [==============================] - 0s 6ms/step - loss: 0.1899 - accuracy: 0.9375 - val_loss: 0.1395 - val_accuracy: 1.0000\n",
            "Epoch 21/50\n",
            "8/8 [==============================] - 0s 7ms/step - loss: 0.1780 - accuracy: 0.9625 - val_loss: 0.1290 - val_accuracy: 1.0000\n",
            "Epoch 22/50\n",
            "8/8 [==============================] - 0s 7ms/step - loss: 0.1678 - accuracy: 0.9500 - val_loss: 0.1198 - val_accuracy: 1.0000\n",
            "Epoch 23/50\n",
            "8/8 [==============================] - 0s 7ms/step - loss: 0.1607 - accuracy: 0.9500 - val_loss: 0.1126 - val_accuracy: 1.0000\n",
            "Epoch 24/50\n",
            "8/8 [==============================] - 0s 7ms/step - loss: 0.1515 - accuracy: 0.9625 - val_loss: 0.1073 - val_accuracy: 1.0000\n",
            "Epoch 25/50\n",
            "8/8 [==============================] - 0s 7ms/step - loss: 0.1446 - accuracy: 0.9500 - val_loss: 0.0993 - val_accuracy: 1.0000\n",
            "Epoch 26/50\n",
            "8/8 [==============================] - 0s 7ms/step - loss: 0.1365 - accuracy: 0.9625 - val_loss: 0.0935 - val_accuracy: 1.0000\n",
            "Epoch 27/50\n",
            "8/8 [==============================] - 0s 7ms/step - loss: 0.1298 - accuracy: 0.9625 - val_loss: 0.0879 - val_accuracy: 1.0000\n",
            "Epoch 28/50\n",
            "8/8 [==============================] - 0s 7ms/step - loss: 0.1236 - accuracy: 0.9625 - val_loss: 0.0828 - val_accuracy: 1.0000\n",
            "Epoch 29/50\n",
            "8/8 [==============================] - 0s 7ms/step - loss: 0.1167 - accuracy: 0.9625 - val_loss: 0.0784 - val_accuracy: 1.0000\n",
            "Epoch 30/50\n",
            "8/8 [==============================] - 0s 7ms/step - loss: 0.1122 - accuracy: 0.9625 - val_loss: 0.0737 - val_accuracy: 1.0000\n",
            "Epoch 31/50\n",
            "8/8 [==============================] - 0s 7ms/step - loss: 0.1060 - accuracy: 0.9625 - val_loss: 0.0705 - val_accuracy: 1.0000\n",
            "Epoch 32/50\n",
            "8/8 [==============================] - 0s 7ms/step - loss: 0.1010 - accuracy: 0.9625 - val_loss: 0.0677 - val_accuracy: 1.0000\n",
            "Epoch 33/50\n",
            "8/8 [==============================] - 0s 7ms/step - loss: 0.0996 - accuracy: 0.9750 - val_loss: 0.0677 - val_accuracy: 1.0000\n",
            "Epoch 34/50\n",
            "8/8 [==============================] - 0s 7ms/step - loss: 0.0923 - accuracy: 0.9750 - val_loss: 0.0626 - val_accuracy: 1.0000\n",
            "Epoch 35/50\n",
            "8/8 [==============================] - 0s 7ms/step - loss: 0.0887 - accuracy: 0.9625 - val_loss: 0.0587 - val_accuracy: 1.0000\n",
            "Epoch 36/50\n",
            "8/8 [==============================] - 0s 7ms/step - loss: 0.0847 - accuracy: 0.9625 - val_loss: 0.0580 - val_accuracy: 1.0000\n",
            "Epoch 37/50\n",
            "8/8 [==============================] - 0s 7ms/step - loss: 0.0807 - accuracy: 0.9875 - val_loss: 0.0575 - val_accuracy: 1.0000\n",
            "Epoch 38/50\n",
            "8/8 [==============================] - 0s 7ms/step - loss: 0.0774 - accuracy: 0.9875 - val_loss: 0.0557 - val_accuracy: 1.0000\n",
            "Epoch 39/50\n",
            "8/8 [==============================] - 0s 6ms/step - loss: 0.0742 - accuracy: 0.9875 - val_loss: 0.0535 - val_accuracy: 1.0000\n",
            "Epoch 40/50\n",
            "8/8 [==============================] - 0s 7ms/step - loss: 0.0707 - accuracy: 0.9875 - val_loss: 0.0515 - val_accuracy: 1.0000\n",
            "Epoch 41/50\n",
            "8/8 [==============================] - 0s 7ms/step - loss: 0.0706 - accuracy: 0.9875 - val_loss: 0.0509 - val_accuracy: 1.0000\n",
            "Epoch 42/50\n",
            "8/8 [==============================] - 0s 7ms/step - loss: 0.0667 - accuracy: 0.9875 - val_loss: 0.0472 - val_accuracy: 1.0000\n",
            "Epoch 43/50\n",
            "8/8 [==============================] - 0s 7ms/step - loss: 0.0632 - accuracy: 0.9875 - val_loss: 0.0469 - val_accuracy: 1.0000\n",
            "Epoch 44/50\n",
            "8/8 [==============================] - 0s 7ms/step - loss: 0.0639 - accuracy: 0.9875 - val_loss: 0.0470 - val_accuracy: 1.0000\n",
            "Epoch 45/50\n",
            "8/8 [==============================] - 0s 8ms/step - loss: 0.0611 - accuracy: 0.9875 - val_loss: 0.0474 - val_accuracy: 1.0000\n",
            "Epoch 46/50\n",
            "8/8 [==============================] - 0s 7ms/step - loss: 0.0584 - accuracy: 0.9875 - val_loss: 0.0431 - val_accuracy: 1.0000\n",
            "Epoch 47/50\n",
            "8/8 [==============================] - 0s 7ms/step - loss: 0.0578 - accuracy: 0.9875 - val_loss: 0.0432 - val_accuracy: 1.0000\n",
            "Epoch 48/50\n",
            "8/8 [==============================] - 0s 6ms/step - loss: 0.0547 - accuracy: 0.9875 - val_loss: 0.0427 - val_accuracy: 1.0000\n",
            "Epoch 49/50\n",
            "8/8 [==============================] - 0s 7ms/step - loss: 0.0564 - accuracy: 0.9750 - val_loss: 0.0409 - val_accuracy: 1.0000\n",
            "Epoch 50/50\n",
            "8/8 [==============================] - 0s 7ms/step - loss: 0.0523 - accuracy: 0.9875 - val_loss: 0.0435 - val_accuracy: 1.0000\n"
          ]
        }
      ]
    },
    {
      "cell_type": "code",
      "source": [
        "# Evaluate on test data\n",
        "Y_pred = np . argmax ( model . predict ( X_test ) , axis =1)\n",
        "Y_test_labels = np . argmax ( Y_test , axis =1)\n",
        "\n",
        "# Performance analysis\n",
        "print(classification_report(Y_test_labels, Y_pred)) #Prints a classification report.\n",
        "print(confusion_matrix(Y_test_labels, Y_pred)) #Prints a confusion matrix.\n",
        "print(\"Accuracy:\", accuracy_score(Y_test_labels, Y_pred)) #Prints the accuracy score.\n",
        "\n",
        "# Plot training history\n",
        "plt.plot(history.history['accuracy'], label='accuracy') #Plots the training accuracy over epochs\n",
        "plt.plot(history.history['val_accuracy'], label='val_accuracy') #Plots the validation accuracy over epochs.\n",
        "plt.xlabel('Epoch') #Sets the label for the x-axis to 'Epoch'.\n",
        "plt.ylabel('Accuracy') #Sets the label for the y-axis to 'Accuracy'.\n",
        "plt.legend(loc='lower right') #Adds a legend to the plot, positioned at the lower right.\n",
        "plt.show() #Displays the plot."
      ],
      "metadata": {
        "colab": {
          "base_uri": "https://localhost:8080/",
          "height": 709
        },
        "id": "RoGUMyGbmcnG",
        "outputId": "5328f735-391a-41ec-c9e5-596c1db1aa49"
      },
      "execution_count": 20,
      "outputs": [
        {
          "output_type": "stream",
          "name": "stdout",
          "text": [
            "2/2 [==============================] - 0s 3ms/step\n",
            "              precision    recall  f1-score   support\n",
            "\n",
            "           0       1.00      0.93      0.96        14\n",
            "           1       0.84      0.89      0.86        18\n",
            "           2       0.89      0.89      0.89        18\n",
            "\n",
            "    accuracy                           0.90        50\n",
            "   macro avg       0.91      0.90      0.91        50\n",
            "weighted avg       0.90      0.90      0.90        50\n",
            "\n",
            "[[13  1  0]\n",
            " [ 0 16  2]\n",
            " [ 0  2 16]]\n",
            "Accuracy: 0.9\n"
          ]
        },
        {
          "output_type": "display_data",
          "data": {
            "text/plain": [
              "<Figure size 640x480 with 1 Axes>"
            ],
            "image/png": "[encoded data removed]"
          },
          "metadata": {}
        }
      ]
    }
  ]
}