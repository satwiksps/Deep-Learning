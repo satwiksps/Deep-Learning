{
  "nbformat": 4,
  "nbformat_minor": 0,
  "metadata": {
    "colab": {
      "provenance": [],
      "gpuType": "V28",
      "authorship_tag": "ABX9TyPqsOUGFFAf0j4JnDKtMRF0",
      "include_colab_link": true
    },
    "kernelspec": {
      "name": "python3",
      "display_name": "Python 3"
    },
    "language_info": {
      "name": "python"
    },
    "accelerator": "TPU"
  },
  "cells": [
    {
      "cell_type": "markdown",
      "metadata": {
        "id": "view-in-github",
        "colab_type": "text"
      },
      "source": [
        "<a href=\"https://colab.research.google.com/github/satwiksps/Deep-Learning/blob/main/Binary_Classification.ipynb\" target=\"_parent\"><img src=\"https://colab.research.google.com/assets/colab-badge.svg\" alt=\"Open In Colab\"/></a>"
      ]
    },
    {
      "cell_type": "code",
      "execution_count": 1,
      "metadata": {
        "id": "FH3Nz2dbNfBk"
      },
      "outputs": [],
      "source": [
        "import numpy as np\n",
        "import pandas as pd\n",
        "import matplotlib.pyplot as plt\n",
        "from sklearn.model_selection import train_test_split\n",
        "from sklearn.preprocessing import StandardScaler\n",
        "from sklearn.metrics import classification_report,accuracy_score\n",
        "from tensorflow.keras.models import Sequential\n",
        "from tensorflow.keras.layers import Dense"
      ]
    },
    {
      "cell_type": "code",
      "source": [
        "#Pima-Indian-Diabetes Dataset\n",
        "from pandas import read_csv\n",
        "url = 'https://raw.githubusercontent.com/erojaso/MLMasteryEndToEnd/master/data/pima-indians-diabetes.data.csv' #Load CSV using Pandas\n",
        "column_names = ['preg', 'plas', 'pres', 'skin', 'test', 'mass', 'pedi', 'age', 'class'] #Define column names\n",
        "data = read_csv(url, names=column_names) #Load CSV using Pandas\n",
        "array = data.values #Convert to NumPy array\n",
        "X = array[:,0:8] #Split into input column\n",
        "Y = array[:,8] #Split into output column\n",
        "X_train, X_test, Y_train, Y_test = train_test_split(X, Y, test_size=0.33, random_state=7)"
      ],
      "metadata": {
        "id": "eA2s_2fiOLqa"
      },
      "execution_count": 2,
      "outputs": []
    },
    {
      "cell_type": "code",
      "source": [
        "scaler = StandardScaler ()\n",
        "X_train = scaler . fit_transform ( X_train )\n",
        "X_test = scaler . transform ( X_test )"
      ],
      "metadata": {
        "id": "7RrQ6MMZOXuf"
      },
      "execution_count": 3,
      "outputs": []
    },
    {
      "cell_type": "code",
      "source": [
        "model = Sequential([\n",
        "    Dense(16, activation='relu', input_shape=(X_train.shape[1],)),  # First layer: Dense layer with 16 neurons, ReLU activation, and input shape defined by the number of features in X_train\n",
        "    Dense(8, activation='relu'),  # Second layer: Dense layer with 8 neurons and ReLU activation\n",
        "    Dense(1, activation='sigmoid')  # Output layer: Dense layer with 1 neuron and sigmoid activation\n",
        "])\n",
        "\n",
        "# Line 3: Compiling the model\n",
        "model.compile(\n",
        "    optimizer='adam',  # Optimizer: Adam optimizer\n",
        "    loss='binary_crossentropy',  # Loss function: Binary cross-entropy\n",
        "    metrics=['accuracy']  # Metrics: Accuracy\n",
        ")\n",
        "\n",
        "# Line 4: Training the model\n",
        "history = model.fit(\n",
        "    X_train,  # Training data features\n",
        "    Y_train,  # Training data labels\n",
        "    epochs=50,  # Number of epochs (iterations over the entire dataset)\n",
        "    validation_split=0.2,  # Fraction of training data to be used as validation data\n",
        "    batch_size=10  # Number of samples per gradient update\n",
        ")"
      ],
      "metadata": {
        "colab": {
          "base_uri": "https://localhost:8080/"
        },
        "id": "xVrIMI_ejV6M",
        "outputId": "96493814-6479-4b09-e2fb-3dec67670274"
      },
      "execution_count": 4,
      "outputs": [
        {
          "output_type": "stream",
          "name": "stdout",
          "text": [
            "Epoch 1/50\n",
            "42/42 [==============================] - 8s 58ms/step - loss: 0.6895 - accuracy: 0.5912 - val_loss: 0.6668 - val_accuracy: 0.6214\n",
            "Epoch 2/50\n",
            "42/42 [==============================] - 1s 17ms/step - loss: 0.6442 - accuracy: 0.7202 - val_loss: 0.6309 - val_accuracy: 0.7184\n",
            "Epoch 3/50\n",
            "42/42 [==============================] - 1s 19ms/step - loss: 0.6113 - accuracy: 0.7737 - val_loss: 0.6021 - val_accuracy: 0.7379\n",
            "Epoch 4/50\n",
            "42/42 [==============================] - 1s 14ms/step - loss: 0.5782 - accuracy: 0.7762 - val_loss: 0.5747 - val_accuracy: 0.7476\n",
            "Epoch 5/50\n",
            "42/42 [==============================] - 1s 12ms/step - loss: 0.5470 - accuracy: 0.7835 - val_loss: 0.5517 - val_accuracy: 0.7670\n",
            "Epoch 6/50\n",
            "42/42 [==============================] - 0s 10ms/step - loss: 0.5173 - accuracy: 0.7908 - val_loss: 0.5377 - val_accuracy: 0.7767\n",
            "Epoch 7/50\n",
            "42/42 [==============================] - 0s 5ms/step - loss: 0.4943 - accuracy: 0.7883 - val_loss: 0.5314 - val_accuracy: 0.7767\n",
            "Epoch 8/50\n",
            "42/42 [==============================] - 0s 4ms/step - loss: 0.4762 - accuracy: 0.7908 - val_loss: 0.5309 - val_accuracy: 0.7670\n",
            "Epoch 9/50\n",
            "42/42 [==============================] - 0s 3ms/step - loss: 0.4629 - accuracy: 0.7908 - val_loss: 0.5327 - val_accuracy: 0.7670\n",
            "Epoch 10/50\n",
            "42/42 [==============================] - 0s 4ms/step - loss: 0.4552 - accuracy: 0.7981 - val_loss: 0.5352 - val_accuracy: 0.7573\n",
            "Epoch 11/50\n",
            "42/42 [==============================] - 0s 4ms/step - loss: 0.4485 - accuracy: 0.7956 - val_loss: 0.5370 - val_accuracy: 0.7670\n",
            "Epoch 12/50\n",
            "42/42 [==============================] - 0s 3ms/step - loss: 0.4420 - accuracy: 0.8005 - val_loss: 0.5344 - val_accuracy: 0.7767\n",
            "Epoch 13/50\n",
            "42/42 [==============================] - 0s 4ms/step - loss: 0.4372 - accuracy: 0.8005 - val_loss: 0.5362 - val_accuracy: 0.7670\n",
            "Epoch 14/50\n",
            "42/42 [==============================] - 0s 5ms/step - loss: 0.4339 - accuracy: 0.8005 - val_loss: 0.5369 - val_accuracy: 0.7670\n",
            "Epoch 15/50\n",
            "42/42 [==============================] - 0s 4ms/step - loss: 0.4293 - accuracy: 0.7981 - val_loss: 0.5407 - val_accuracy: 0.7573\n",
            "Epoch 16/50\n",
            "42/42 [==============================] - 0s 3ms/step - loss: 0.4261 - accuracy: 0.8005 - val_loss: 0.5442 - val_accuracy: 0.7573\n",
            "Epoch 17/50\n",
            "42/42 [==============================] - 0s 3ms/step - loss: 0.4226 - accuracy: 0.7981 - val_loss: 0.5482 - val_accuracy: 0.7476\n",
            "Epoch 18/50\n",
            "42/42 [==============================] - 0s 3ms/step - loss: 0.4211 - accuracy: 0.8054 - val_loss: 0.5495 - val_accuracy: 0.7573\n",
            "Epoch 19/50\n",
            "42/42 [==============================] - 0s 4ms/step - loss: 0.4175 - accuracy: 0.8029 - val_loss: 0.5515 - val_accuracy: 0.7476\n",
            "Epoch 20/50\n",
            "42/42 [==============================] - 0s 5ms/step - loss: 0.4146 - accuracy: 0.8029 - val_loss: 0.5532 - val_accuracy: 0.7476\n",
            "Epoch 21/50\n",
            "42/42 [==============================] - 0s 3ms/step - loss: 0.4129 - accuracy: 0.8005 - val_loss: 0.5564 - val_accuracy: 0.7573\n",
            "Epoch 22/50\n",
            "42/42 [==============================] - 0s 3ms/step - loss: 0.4096 - accuracy: 0.8054 - val_loss: 0.5582 - val_accuracy: 0.7476\n",
            "Epoch 23/50\n",
            "42/42 [==============================] - 0s 3ms/step - loss: 0.4082 - accuracy: 0.8029 - val_loss: 0.5609 - val_accuracy: 0.7476\n",
            "Epoch 24/50\n",
            "42/42 [==============================] - 0s 3ms/step - loss: 0.4070 - accuracy: 0.7981 - val_loss: 0.5610 - val_accuracy: 0.7476\n",
            "Epoch 25/50\n",
            "42/42 [==============================] - 0s 3ms/step - loss: 0.4052 - accuracy: 0.8005 - val_loss: 0.5622 - val_accuracy: 0.7476\n",
            "Epoch 26/50\n",
            "42/42 [==============================] - 0s 5ms/step - loss: 0.4022 - accuracy: 0.8005 - val_loss: 0.5661 - val_accuracy: 0.7476\n",
            "Epoch 27/50\n",
            "42/42 [==============================] - 0s 4ms/step - loss: 0.4031 - accuracy: 0.8078 - val_loss: 0.5684 - val_accuracy: 0.7476\n",
            "Epoch 28/50\n",
            "42/42 [==============================] - 0s 3ms/step - loss: 0.3995 - accuracy: 0.8005 - val_loss: 0.5682 - val_accuracy: 0.7476\n",
            "Epoch 29/50\n",
            "42/42 [==============================] - 0s 5ms/step - loss: 0.3978 - accuracy: 0.8029 - val_loss: 0.5699 - val_accuracy: 0.7573\n",
            "Epoch 30/50\n",
            "42/42 [==============================] - 0s 5ms/step - loss: 0.3967 - accuracy: 0.8078 - val_loss: 0.5710 - val_accuracy: 0.7476\n",
            "Epoch 31/50\n",
            "42/42 [==============================] - 0s 6ms/step - loss: 0.3934 - accuracy: 0.8102 - val_loss: 0.5733 - val_accuracy: 0.7476\n",
            "Epoch 32/50\n",
            "42/42 [==============================] - 0s 7ms/step - loss: 0.3924 - accuracy: 0.8102 - val_loss: 0.5739 - val_accuracy: 0.7573\n",
            "Epoch 33/50\n",
            "42/42 [==============================] - 0s 5ms/step - loss: 0.3913 - accuracy: 0.8151 - val_loss: 0.5751 - val_accuracy: 0.7476\n",
            "Epoch 34/50\n",
            "42/42 [==============================] - 0s 5ms/step - loss: 0.3906 - accuracy: 0.8175 - val_loss: 0.5768 - val_accuracy: 0.7573\n",
            "Epoch 35/50\n",
            "42/42 [==============================] - 0s 7ms/step - loss: 0.3885 - accuracy: 0.8151 - val_loss: 0.5806 - val_accuracy: 0.7476\n",
            "Epoch 36/50\n",
            "42/42 [==============================] - 0s 6ms/step - loss: 0.3869 - accuracy: 0.8175 - val_loss: 0.5797 - val_accuracy: 0.7573\n",
            "Epoch 37/50\n",
            "42/42 [==============================] - 0s 6ms/step - loss: 0.3853 - accuracy: 0.8175 - val_loss: 0.5773 - val_accuracy: 0.7573\n",
            "Epoch 38/50\n",
            "42/42 [==============================] - 0s 6ms/step - loss: 0.3846 - accuracy: 0.8175 - val_loss: 0.5814 - val_accuracy: 0.7670\n",
            "Epoch 39/50\n",
            "42/42 [==============================] - 0s 7ms/step - loss: 0.3844 - accuracy: 0.8200 - val_loss: 0.5870 - val_accuracy: 0.7379\n",
            "Epoch 40/50\n",
            "42/42 [==============================] - 0s 6ms/step - loss: 0.3818 - accuracy: 0.8151 - val_loss: 0.5860 - val_accuracy: 0.7476\n",
            "Epoch 41/50\n",
            "42/42 [==============================] - 0s 7ms/step - loss: 0.3808 - accuracy: 0.8151 - val_loss: 0.5887 - val_accuracy: 0.7476\n",
            "Epoch 42/50\n",
            "42/42 [==============================] - 0s 4ms/step - loss: 0.3787 - accuracy: 0.8151 - val_loss: 0.5836 - val_accuracy: 0.7379\n",
            "Epoch 43/50\n",
            "42/42 [==============================] - 0s 5ms/step - loss: 0.3782 - accuracy: 0.8151 - val_loss: 0.5839 - val_accuracy: 0.7379\n",
            "Epoch 44/50\n",
            "42/42 [==============================] - 0s 4ms/step - loss: 0.3768 - accuracy: 0.8151 - val_loss: 0.5871 - val_accuracy: 0.7379\n",
            "Epoch 45/50\n",
            "42/42 [==============================] - 0s 4ms/step - loss: 0.3771 - accuracy: 0.8175 - val_loss: 0.5869 - val_accuracy: 0.7573\n",
            "Epoch 46/50\n",
            "42/42 [==============================] - 0s 3ms/step - loss: 0.3749 - accuracy: 0.8248 - val_loss: 0.5881 - val_accuracy: 0.7476\n",
            "Epoch 47/50\n",
            "42/42 [==============================] - 0s 4ms/step - loss: 0.3731 - accuracy: 0.8200 - val_loss: 0.5921 - val_accuracy: 0.7379\n",
            "Epoch 48/50\n",
            "42/42 [==============================] - 0s 5ms/step - loss: 0.3741 - accuracy: 0.8127 - val_loss: 0.5901 - val_accuracy: 0.7573\n",
            "Epoch 49/50\n",
            "42/42 [==============================] - 0s 4ms/step - loss: 0.3727 - accuracy: 0.8175 - val_loss: 0.5909 - val_accuracy: 0.7476\n",
            "Epoch 50/50\n",
            "42/42 [==============================] - 0s 4ms/step - loss: 0.3707 - accuracy: 0.8248 - val_loss: 0.5921 - val_accuracy: 0.7476\n"
          ]
        }
      ]
    },
    {
      "cell_type": "code",
      "source": [
        "# Evaluate on test data\n",
        "Y_pred = (model.predict(X_test) > 0.5).astype(\"int32\")\n",
        "\n",
        "# Performance analysis\n",
        "print(classification_report(Y_test, Y_pred))\n",
        "print(\"Accuracy:\", accuracy_score(Y_test, Y_pred))\n",
        "\n",
        "# Plot training history\n",
        "plt.plot(history.history['accuracy'], label='accuracy')\n",
        "plt.plot(history.history['val_accuracy'], label='val_accuracy')\n",
        "plt.xlabel('Epoch')\n",
        "plt.ylabel('Accuracy')\n",
        "plt.legend(loc='lower right')\n",
        "plt.show()"
      ],
      "metadata": {
        "colab": {
          "base_uri": "https://localhost:8080/",
          "height": 640
        },
        "id": "RoGUMyGbmcnG",
        "outputId": "2315e49c-a944-4f95-d68b-364492fc9545"
      },
      "execution_count": 5,
      "outputs": [
        {
          "output_type": "stream",
          "name": "stdout",
          "text": [
            "8/8 [==============================] - 0s 5ms/step\n",
            "              precision    recall  f1-score   support\n",
            "\n",
            "         0.0       0.80      0.81      0.81       162\n",
            "         1.0       0.66      0.65      0.66        92\n",
            "\n",
            "    accuracy                           0.75       254\n",
            "   macro avg       0.73      0.73      0.73       254\n",
            "weighted avg       0.75      0.75      0.75       254\n",
            "\n",
            "Accuracy: 0.7519685039370079\n"
          ]
        },
        {
          "output_type": "display_data",
          "data": {
            "text/plain": [
              "<Figure size 640x480 with 1 Axes>"
            ],
            "image/png": "[encoded data removed]"
          },
          "metadata": {}
        }
      ]
    }
  ]
}