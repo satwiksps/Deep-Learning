{
  "nbformat": 4,
  "nbformat_minor": 0,
  "metadata": {
    "colab": {
      "provenance": [],
      "gpuType": "V28",
      "authorship_tag": "ABX9TyOXDnyJZdzvuWwZHhGlkeHA",
      "include_colab_link": true
    },
    "kernelspec": {
      "name": "python3",
      "display_name": "Python 3"
    },
    "language_info": {
      "name": "python"
    },
    "accelerator": "TPU"
  },
  "cells": [
    {
      "cell_type": "markdown",
      "metadata": {
        "id": "view-in-github",
        "colab_type": "text"
      },
      "source": [
        "<a href=\"https://colab.research.google.com/github/satwiksps/Deep-Learning/blob/main/03_Regression.ipynb\" target=\"_parent\"><img src=\"https://colab.research.google.com/assets/colab-badge.svg\" alt=\"Open In Colab\"/></a>"
      ]
    },
    {
      "cell_type": "code",
      "execution_count": 14,
      "metadata": {
        "id": "FH3Nz2dbNfBk"
      },
      "outputs": [],
      "source": [
        "import numpy as np\n",
        "import pandas as pd\n",
        "import matplotlib.pyplot as plt\n",
        "from sklearn.model_selection import train_test_split\n",
        "from sklearn.preprocessing import StandardScaler\n",
        "from sklearn . metrics import mean_squared_error\n",
        "from sklearn.metrics import classification_report,accuracy_score,confusion_matrix\n",
        "from tensorflow.keras.models import Sequential\n",
        "from tensorflow.keras.layers import Dense"
      ]
    },
    {
      "cell_type": "code",
      "source": [
        "#Boston-House-Price Dataset\n",
        "from pandas import read_csv\n",
        "url2 = 'https://raw.githubusercontent.com/erojaso/MLMasteryEndToEnd/master/data/housing.NAN.adjust.csv' #Load CSV using Pandas\n",
        "names = ['CRIM', 'ZN', 'INDUS', 'CHAS', 'NOX', 'RM', 'AGE', 'DIS', 'RAD', 'TAX', 'PTRATIO', 'B', 'LSTAT', 'MEDV'] #Define column names\n",
        "dataframe = read_csv(url2, names=names) #Load CSV using Pandas\n",
        "array = dataframe.values #Convert to NumPy array\n",
        "X = array[:,0:13] #Attributes (Split into input rows)\n",
        "Y = array[:,13] #Labels (Split into output column)\n",
        "X_train, X_test, Y_train, Y_test = train_test_split(X, Y, test_size=0.33, random_state=7) #Split into train and test sets"
      ],
      "metadata": {
        "id": "eA2s_2fiOLqa"
      },
      "execution_count": 15,
      "outputs": []
    },
    {
      "cell_type": "code",
      "source": [
        "scaler = StandardScaler () #Standardize features by removing the mean and scaling to unit variance\n",
        "X_train = scaler . fit_transform ( X_train )\n",
        "X_test = scaler . transform ( X_test ) #Apply standardization to test data"
      ],
      "metadata": {
        "id": "7RrQ6MMZOXuf"
      },
      "execution_count": 16,
      "outputs": []
    },
    {
      "cell_type": "code",
      "source": [
        "# Build model\n",
        "model = Sequential([\n",
        "    Dense(64, activation='relu', input_shape=(X_train.shape[1],)),  # First layer: Dense layer with 16 neurons, ReLU activation, and input shape defined by the number of features in X_train\n",
        "    Dense(32, activation='relu'),  # Second layer: Dense layer with 8 neurons and ReLU activation\n",
        "    Dense(1)  # Output layer: Dense layer with 1 neuron\n",
        "])\n",
        "\n",
        "# Line 3: Compiling the model\n",
        "model.compile(\n",
        "    optimizer='adam',  # Optimizer: Adam optimizer\n",
        "    loss='mse',  # Loss function: Mean Squared Error\n",
        "    metrics=['mse']  # Metrics: Mean Squared Error\n",
        ")\n",
        "\n",
        "# Line 4: Training the model\n",
        "history = model.fit(\n",
        "    X_train,  # Training data features\n",
        "    Y_train,  # Training data labels\n",
        "    epochs=50,  # Number of epochs (iterations over the entire dataset)\n",
        "    validation_split=0.2,  # Fraction of training data to be used as validation data\n",
        "    batch_size=10  # Number of samples per gradient update\n",
        ")"
      ],
      "metadata": {
        "colab": {
          "base_uri": "https://localhost:8080/"
        },
        "id": "xVrIMI_ejV6M",
        "outputId": "37206f29-7306-47bc-f7e9-b08d2f232a0b"
      },
      "execution_count": 17,
      "outputs": [
        {
          "output_type": "stream",
          "name": "stdout",
          "text": [
            "Epoch 1/50\n",
            "28/28 [==============================] - 1s 8ms/step - loss: 582.4040 - mse: 582.4040 - val_loss: 562.4935 - val_mse: 562.4935\n",
            "Epoch 2/50\n",
            "28/28 [==============================] - 0s 3ms/step - loss: 517.0547 - mse: 517.0547 - val_loss: 468.5638 - val_mse: 468.5638\n",
            "Epoch 3/50\n",
            "28/28 [==============================] - 0s 3ms/step - loss: 401.6582 - mse: 401.6582 - val_loss: 305.3565 - val_mse: 305.3565\n",
            "Epoch 4/50\n",
            "28/28 [==============================] - 0s 3ms/step - loss: 230.7535 - mse: 230.7535 - val_loss: 119.5577 - val_mse: 119.5577\n",
            "Epoch 5/50\n",
            "28/28 [==============================] - 0s 3ms/step - loss: 98.3196 - mse: 98.3196 - val_loss: 44.7742 - val_mse: 44.7742\n",
            "Epoch 6/50\n",
            "28/28 [==============================] - 0s 3ms/step - loss: 48.8241 - mse: 48.8241 - val_loss: 29.4696 - val_mse: 29.4696\n",
            "Epoch 7/50\n",
            "28/28 [==============================] - 0s 3ms/step - loss: 34.0890 - mse: 34.0890 - val_loss: 21.3850 - val_mse: 21.3850\n",
            "Epoch 8/50\n",
            "28/28 [==============================] - 0s 3ms/step - loss: 27.1192 - mse: 27.1192 - val_loss: 18.6334 - val_mse: 18.6334\n",
            "Epoch 9/50\n",
            "28/28 [==============================] - 0s 3ms/step - loss: 24.5184 - mse: 24.5184 - val_loss: 16.8113 - val_mse: 16.8113\n",
            "Epoch 10/50\n",
            "28/28 [==============================] - 0s 3ms/step - loss: 22.0956 - mse: 22.0956 - val_loss: 15.6949 - val_mse: 15.6949\n",
            "Epoch 11/50\n",
            "28/28 [==============================] - 0s 3ms/step - loss: 20.6448 - mse: 20.6448 - val_loss: 14.8466 - val_mse: 14.8466\n",
            "Epoch 12/50\n",
            "28/28 [==============================] - 0s 3ms/step - loss: 19.6998 - mse: 19.6998 - val_loss: 14.2003 - val_mse: 14.2003\n",
            "Epoch 13/50\n",
            "28/28 [==============================] - 0s 3ms/step - loss: 18.8115 - mse: 18.8115 - val_loss: 13.6181 - val_mse: 13.6181\n",
            "Epoch 14/50\n",
            "28/28 [==============================] - 0s 3ms/step - loss: 17.9211 - mse: 17.9211 - val_loss: 13.0414 - val_mse: 13.0414\n",
            "Epoch 15/50\n",
            "28/28 [==============================] - 0s 3ms/step - loss: 17.1624 - mse: 17.1624 - val_loss: 12.6705 - val_mse: 12.6705\n",
            "Epoch 16/50\n",
            "28/28 [==============================] - 0s 3ms/step - loss: 16.5356 - mse: 16.5356 - val_loss: 12.1063 - val_mse: 12.1063\n",
            "Epoch 17/50\n",
            "28/28 [==============================] - 0s 3ms/step - loss: 15.8391 - mse: 15.8391 - val_loss: 11.7313 - val_mse: 11.7313\n",
            "Epoch 18/50\n",
            "28/28 [==============================] - 0s 3ms/step - loss: 15.2103 - mse: 15.2103 - val_loss: 11.5353 - val_mse: 11.5353\n",
            "Epoch 19/50\n",
            "28/28 [==============================] - 0s 3ms/step - loss: 14.7965 - mse: 14.7965 - val_loss: 11.3626 - val_mse: 11.3626\n",
            "Epoch 20/50\n",
            "28/28 [==============================] - 0s 3ms/step - loss: 14.1511 - mse: 14.1511 - val_loss: 11.1469 - val_mse: 11.1469\n",
            "Epoch 21/50\n",
            "28/28 [==============================] - 0s 3ms/step - loss: 13.6871 - mse: 13.6871 - val_loss: 10.9066 - val_mse: 10.9066\n",
            "Epoch 22/50\n",
            "28/28 [==============================] - 0s 3ms/step - loss: 13.3382 - mse: 13.3382 - val_loss: 10.7436 - val_mse: 10.7436\n",
            "Epoch 23/50\n",
            "28/28 [==============================] - 0s 3ms/step - loss: 12.8898 - mse: 12.8898 - val_loss: 10.5072 - val_mse: 10.5072\n",
            "Epoch 24/50\n",
            "28/28 [==============================] - 0s 3ms/step - loss: 12.6968 - mse: 12.6968 - val_loss: 10.5347 - val_mse: 10.5347\n",
            "Epoch 25/50\n",
            "28/28 [==============================] - 0s 3ms/step - loss: 12.3639 - mse: 12.3639 - val_loss: 10.3535 - val_mse: 10.3535\n",
            "Epoch 26/50\n",
            "28/28 [==============================] - 0s 3ms/step - loss: 11.9682 - mse: 11.9682 - val_loss: 10.4288 - val_mse: 10.4288\n",
            "Epoch 27/50\n",
            "28/28 [==============================] - 0s 3ms/step - loss: 11.8094 - mse: 11.8094 - val_loss: 10.3147 - val_mse: 10.3147\n",
            "Epoch 28/50\n",
            "28/28 [==============================] - 0s 3ms/step - loss: 11.6762 - mse: 11.6762 - val_loss: 10.1343 - val_mse: 10.1343\n",
            "Epoch 29/50\n",
            "28/28 [==============================] - 0s 3ms/step - loss: 11.7144 - mse: 11.7144 - val_loss: 10.2010 - val_mse: 10.2010\n",
            "Epoch 30/50\n",
            "28/28 [==============================] - 0s 3ms/step - loss: 11.6585 - mse: 11.6585 - val_loss: 10.2389 - val_mse: 10.2389\n",
            "Epoch 31/50\n",
            "28/28 [==============================] - 0s 3ms/step - loss: 11.1874 - mse: 11.1874 - val_loss: 10.3368 - val_mse: 10.3368\n",
            "Epoch 32/50\n",
            "28/28 [==============================] - 0s 3ms/step - loss: 10.7171 - mse: 10.7171 - val_loss: 10.2462 - val_mse: 10.2462\n",
            "Epoch 33/50\n",
            "28/28 [==============================] - 0s 3ms/step - loss: 10.6650 - mse: 10.6650 - val_loss: 10.8383 - val_mse: 10.8383\n",
            "Epoch 34/50\n",
            "28/28 [==============================] - 0s 3ms/step - loss: 10.8840 - mse: 10.8840 - val_loss: 10.2744 - val_mse: 10.2744\n",
            "Epoch 35/50\n",
            "28/28 [==============================] - 0s 3ms/step - loss: 10.5033 - mse: 10.5033 - val_loss: 10.8268 - val_mse: 10.8268\n",
            "Epoch 36/50\n",
            "28/28 [==============================] - 0s 3ms/step - loss: 10.3309 - mse: 10.3309 - val_loss: 10.4992 - val_mse: 10.4992\n",
            "Epoch 37/50\n",
            "28/28 [==============================] - 0s 3ms/step - loss: 10.3126 - mse: 10.3126 - val_loss: 10.5159 - val_mse: 10.5159\n",
            "Epoch 38/50\n",
            "28/28 [==============================] - 0s 3ms/step - loss: 10.1152 - mse: 10.1152 - val_loss: 10.4301 - val_mse: 10.4301\n",
            "Epoch 39/50\n",
            "28/28 [==============================] - 0s 3ms/step - loss: 10.0735 - mse: 10.0735 - val_loss: 10.4064 - val_mse: 10.4064\n",
            "Epoch 40/50\n",
            "28/28 [==============================] - 0s 3ms/step - loss: 9.9619 - mse: 9.9619 - val_loss: 10.7121 - val_mse: 10.7121\n",
            "Epoch 41/50\n",
            "28/28 [==============================] - 0s 3ms/step - loss: 9.8845 - mse: 9.8845 - val_loss: 10.4832 - val_mse: 10.4832\n",
            "Epoch 42/50\n",
            "28/28 [==============================] - 0s 3ms/step - loss: 9.8093 - mse: 9.8093 - val_loss: 10.3038 - val_mse: 10.3038\n",
            "Epoch 43/50\n",
            "28/28 [==============================] - 0s 3ms/step - loss: 10.0373 - mse: 10.0373 - val_loss: 10.6418 - val_mse: 10.6418\n",
            "Epoch 44/50\n",
            "28/28 [==============================] - 0s 3ms/step - loss: 9.5060 - mse: 9.5060 - val_loss: 10.1920 - val_mse: 10.1920\n",
            "Epoch 45/50\n",
            "28/28 [==============================] - 0s 3ms/step - loss: 9.6452 - mse: 9.6452 - val_loss: 10.5794 - val_mse: 10.5794\n",
            "Epoch 46/50\n",
            "28/28 [==============================] - 0s 3ms/step - loss: 9.5822 - mse: 9.5822 - val_loss: 10.7180 - val_mse: 10.7180\n",
            "Epoch 47/50\n",
            "28/28 [==============================] - 0s 3ms/step - loss: 9.3879 - mse: 9.3879 - val_loss: 10.5573 - val_mse: 10.5573\n",
            "Epoch 48/50\n",
            "28/28 [==============================] - 0s 3ms/step - loss: 9.2992 - mse: 9.2992 - val_loss: 10.4411 - val_mse: 10.4411\n",
            "Epoch 49/50\n",
            "28/28 [==============================] - 0s 3ms/step - loss: 9.4378 - mse: 9.4378 - val_loss: 10.3570 - val_mse: 10.3570\n",
            "Epoch 50/50\n",
            "28/28 [==============================] - 0s 3ms/step - loss: 9.1859 - mse: 9.1859 - val_loss: 10.5841 - val_mse: 10.5841\n"
          ]
        }
      ]
    },
    {
      "cell_type": "code",
      "source": [
        "# Evaluate on test data\n",
        "Y_pred=model.predict( X_test )\n",
        "\n",
        "# Performance analysis\n",
        "print('MSE:', mean_squared_error(Y_test, Y_pred))\n",
        "\n",
        "# Plot training history\n",
        "plt.plot(history.history['mse'], label='mse') #Plots the training accuracy over epochs\n",
        "plt.plot(history.history['val_mse'], label='val_mse') #Plots the validation accuracy over epochs.\n",
        "plt.xlabel('Epoch') #Sets the label for the x-axis to 'Epoch'.\n",
        "plt.ylabel('mse') #Sets the label for the y-axis to 'Accuracy'.\n",
        "plt.legend(loc='upper right') #Adds a legend to the plot, positioned at the lower right.\n",
        "plt.show() #Displays the plot."
      ],
      "metadata": {
        "colab": {
          "base_uri": "https://localhost:8080/",
          "height": 484
        },
        "id": "RoGUMyGbmcnG",
        "outputId": "e73e282c-3cdf-4171-8960-761004560c5b"
      },
      "execution_count": 18,
      "outputs": [
        {
          "output_type": "stream",
          "name": "stdout",
          "text": [
            "6/6 [==============================] - 0s 2ms/step\n",
            "MSE: 18.776089782830372\n"
          ]
        },
        {
          "output_type": "display_data",
          "data": {
            "text/plain": [
              "<Figure size 640x480 with 1 Axes>"
            ],
            "image/png": "[encoded data removed]"
          },
          "metadata": {}
        }
      ]
    }
  ]
}