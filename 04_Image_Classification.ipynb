{
  "nbformat": 4,
  "nbformat_minor": 0,
  "metadata": {
    "colab": {
      "provenance": [],
      "gpuType": "T4",
      "authorship_tag": "ABX9TyNFxLUA+w2ABBVnbZL1/xL1",
      "include_colab_link": true
    },
    "kernelspec": {
      "name": "python3",
      "display_name": "Python 3"
    },
    "language_info": {
      "name": "python"
    },
    "accelerator": "GPU"
  },
  "cells": [
    {
      "cell_type": "markdown",
      "metadata": {
        "id": "view-in-github",
        "colab_type": "text"
      },
      "source": [
        "<a href=\"https://colab.research.google.com/github/satwiksps/Deep-Learning/blob/main/04_Image_Classification.ipynb\" target=\"_parent\"><img src=\"https://colab.research.google.com/assets/colab-badge.svg\" alt=\"Open In Colab\"/></a>"
      ]
    },
    {
      "cell_type": "code",
      "execution_count": 1,
      "metadata": {
        "id": "FH3Nz2dbNfBk"
      },
      "outputs": [],
      "source": [
        "import numpy as np\n",
        "import matplotlib.pyplot as plt\n",
        "from tensorflow.keras.utils import to_categorical\n",
        "from tensorflow.keras.layers import Dense,Conv2D,MaxPooling2D,Flatten\n",
        "from tensorflow.keras.models import Sequential\n",
        "from sklearn.metrics import classification_report,accuracy_score,confusion_matrix"
      ]
    },
    {
      "cell_type": "code",
      "source": [
        "from tensorflow.keras.datasets import mnist"
      ],
      "metadata": {
        "id": "3fne7j-vxauQ"
      },
      "execution_count": 2,
      "outputs": []
    },
    {
      "cell_type": "code",
      "source": [
        "# Load dataset\n",
        "(X_train,Y_train),(X_test,Y_test)=mnist.load_data()\n",
        "# Normalize data\n",
        "X_train=X_train.astype('float32')/255.0\n",
        "X_test=X_test.astype('float32')/255.0\n",
        "# Reshape data\n",
        "X_train=X_train.reshape((X_train.shape[0],28,28,1))\n",
        "X_test=X_test.reshape((X_test.shape[0],28,28,1))\n",
        "# One - hot encode labels\n",
        "Y_train=to_categorical(Y_train,10)\n",
        "Y_test=to_categorical(Y_test,10)"
      ],
      "metadata": {
        "id": "7RrQ6MMZOXuf",
        "colab": {
          "base_uri": "https://localhost:8080/"
        },
        "outputId": "c103527b-c95e-4616-fb42-27819df2f41e"
      },
      "execution_count": 3,
      "outputs": [
        {
          "output_type": "stream",
          "name": "stdout",
          "text": [
            "Downloading data from https://storage.googleapis.com/tensorflow/tf-keras-datasets/mnist.npz\n",
            "11490434/11490434 [==============================] - 0s 0us/step\n"
          ]
        }
      ]
    },
    {
      "cell_type": "code",
      "source": [
        "# Initialize the Sequential model\n",
        "model = Sequential([\n",
        "    # Add a Conv2D layer with 32 filters, each of size 3x3, using ReLU activation\n",
        "    # Input shape is (28, 28, 1) which represents 28x28 grayscale images\n",
        "    Conv2D(32, (3, 3), activation='relu', input_shape=(28, 28, 1)),\n",
        "    # Add a MaxPooling layer with a pool size of 2x2 to downsample the feature maps\n",
        "    MaxPooling2D((2, 2)),\n",
        "    # Add another Conv2D layer with 64 filters, each of size 3x3, using ReLU activation\n",
        "    Conv2D(64, (3, 3), activation='relu'),\n",
        "    # Add another MaxPooling layer with a pool size of 2x2\n",
        "    MaxPooling2D((2, 2)),\n",
        "    # Flatten the 2D feature maps into a 1D feature vector\n",
        "    Flatten(),\n",
        "    # Add a Dense (fully connected) layer with 64 units and ReLU activation\n",
        "    Dense(64, activation='relu'),\n",
        "    # Add the output Dense layer with 10 units (one for each class) and softmax activation\n",
        "    Dense(10, activation='softmax')\n",
        "])\n",
        "\n",
        "# Line 3: Compiling the model\n",
        "model.compile(\n",
        "    optimizer='adam',  # Optimizer: Adam optimizer\n",
        "    loss='categorical_crossentropy',  # Loss function: Categorical cross-entropy\n",
        "    metrics=['accuracy']  # Metrics: Accuracy\n",
        ")\n",
        "\n",
        "# Line 4: Training the model\n",
        "history = model.fit(\n",
        "    X_train,  # Training data features\n",
        "    Y_train,  # Training data labels\n",
        "    epochs=50,  # Number of epochs (iterations over the entire dataset)\n",
        "    validation_split=0.2,  # Fraction of training data to be used as validation data\n",
        "    batch_size=64  # Number of samples per gradient update\n",
        ")"
      ],
      "metadata": {
        "colab": {
          "base_uri": "https://localhost:8080/"
        },
        "id": "xVrIMI_ejV6M",
        "outputId": "6ba288c4-9178-45e0-a60d-3decd8d73a61"
      },
      "execution_count": 4,
      "outputs": [
        {
          "output_type": "stream",
          "name": "stdout",
          "text": [
            "Epoch 1/50\n",
            "750/750 [==============================] - 8s 5ms/step - loss: 0.2025 - accuracy: 0.9399 - val_loss: 0.0883 - val_accuracy: 0.9727\n",
            "Epoch 2/50\n",
            "750/750 [==============================] - 3s 4ms/step - loss: 0.0567 - accuracy: 0.9824 - val_loss: 0.0490 - val_accuracy: 0.9859\n",
            "Epoch 3/50\n",
            "750/750 [==============================] - 4s 5ms/step - loss: 0.0415 - accuracy: 0.9871 - val_loss: 0.0392 - val_accuracy: 0.9887\n",
            "Epoch 4/50\n",
            "750/750 [==============================] - 3s 4ms/step - loss: 0.0296 - accuracy: 0.9906 - val_loss: 0.0606 - val_accuracy: 0.9816\n",
            "Epoch 5/50\n",
            "750/750 [==============================] - 3s 4ms/step - loss: 0.0246 - accuracy: 0.9921 - val_loss: 0.0448 - val_accuracy: 0.9877\n",
            "Epoch 6/50\n",
            "750/750 [==============================] - 4s 5ms/step - loss: 0.0185 - accuracy: 0.9940 - val_loss: 0.0380 - val_accuracy: 0.9896\n",
            "Epoch 7/50\n",
            "750/750 [==============================] - 3s 4ms/step - loss: 0.0148 - accuracy: 0.9951 - val_loss: 0.0407 - val_accuracy: 0.9897\n",
            "Epoch 8/50\n",
            "750/750 [==============================] - 3s 4ms/step - loss: 0.0122 - accuracy: 0.9962 - val_loss: 0.0511 - val_accuracy: 0.9872\n",
            "Epoch 9/50\n",
            "750/750 [==============================] - 3s 4ms/step - loss: 0.0096 - accuracy: 0.9969 - val_loss: 0.0437 - val_accuracy: 0.9893\n",
            "Epoch 10/50\n",
            "750/750 [==============================] - 4s 5ms/step - loss: 0.0087 - accuracy: 0.9973 - val_loss: 0.0479 - val_accuracy: 0.9886\n",
            "Epoch 11/50\n",
            "750/750 [==============================] - 3s 4ms/step - loss: 0.0067 - accuracy: 0.9978 - val_loss: 0.0467 - val_accuracy: 0.9888\n",
            "Epoch 12/50\n",
            "750/750 [==============================] - 3s 4ms/step - loss: 0.0075 - accuracy: 0.9973 - val_loss: 0.0459 - val_accuracy: 0.9899\n",
            "Epoch 13/50\n",
            "750/750 [==============================] - 3s 4ms/step - loss: 0.0052 - accuracy: 0.9984 - val_loss: 0.0535 - val_accuracy: 0.9880\n",
            "Epoch 14/50\n",
            "750/750 [==============================] - 4s 5ms/step - loss: 0.0057 - accuracy: 0.9982 - val_loss: 0.0511 - val_accuracy: 0.9897\n",
            "Epoch 15/50\n",
            "750/750 [==============================] - 3s 4ms/step - loss: 0.0035 - accuracy: 0.9988 - val_loss: 0.0511 - val_accuracy: 0.9898\n",
            "Epoch 16/50\n",
            "750/750 [==============================] - 4s 5ms/step - loss: 0.0035 - accuracy: 0.9989 - val_loss: 0.0707 - val_accuracy: 0.9877\n",
            "Epoch 17/50\n",
            "750/750 [==============================] - 3s 4ms/step - loss: 0.0053 - accuracy: 0.9982 - val_loss: 0.0544 - val_accuracy: 0.9898\n",
            "Epoch 18/50\n",
            "750/750 [==============================] - 4s 5ms/step - loss: 0.0026 - accuracy: 0.9993 - val_loss: 0.0577 - val_accuracy: 0.9898\n",
            "Epoch 19/50\n",
            "750/750 [==============================] - 3s 4ms/step - loss: 0.0050 - accuracy: 0.9983 - val_loss: 0.0571 - val_accuracy: 0.9887\n",
            "Epoch 20/50\n",
            "750/750 [==============================] - 3s 4ms/step - loss: 0.0014 - accuracy: 0.9996 - val_loss: 0.0568 - val_accuracy: 0.9906\n",
            "Epoch 21/50\n",
            "750/750 [==============================] - 4s 5ms/step - loss: 3.0582e-04 - accuracy: 0.9999 - val_loss: 0.0556 - val_accuracy: 0.9920\n",
            "Epoch 22/50\n",
            "750/750 [==============================] - 3s 5ms/step - loss: 3.9112e-05 - accuracy: 1.0000 - val_loss: 0.0550 - val_accuracy: 0.9923\n",
            "Epoch 23/50\n",
            "750/750 [==============================] - 3s 4ms/step - loss: 0.0080 - accuracy: 0.9976 - val_loss: 0.0521 - val_accuracy: 0.9890\n",
            "Epoch 24/50\n",
            "750/750 [==============================] - 3s 4ms/step - loss: 0.0026 - accuracy: 0.9991 - val_loss: 0.0578 - val_accuracy: 0.9898\n",
            "Epoch 25/50\n",
            "750/750 [==============================] - 4s 5ms/step - loss: 0.0023 - accuracy: 0.9991 - val_loss: 0.0588 - val_accuracy: 0.9910\n",
            "Epoch 26/50\n",
            "750/750 [==============================] - 3s 4ms/step - loss: 0.0038 - accuracy: 0.9987 - val_loss: 0.0858 - val_accuracy: 0.9887\n",
            "Epoch 27/50\n",
            "750/750 [==============================] - 3s 4ms/step - loss: 0.0027 - accuracy: 0.9989 - val_loss: 0.0574 - val_accuracy: 0.9908\n",
            "Epoch 28/50\n",
            "750/750 [==============================] - 3s 4ms/step - loss: 6.4774e-04 - accuracy: 0.9998 - val_loss: 0.0596 - val_accuracy: 0.9909\n",
            "Epoch 29/50\n",
            "750/750 [==============================] - 4s 5ms/step - loss: 0.0011 - accuracy: 0.9996 - val_loss: 0.0538 - val_accuracy: 0.9918\n",
            "Epoch 30/50\n",
            "750/750 [==============================] - 3s 4ms/step - loss: 2.6386e-04 - accuracy: 1.0000 - val_loss: 0.0577 - val_accuracy: 0.9921\n",
            "Epoch 31/50\n",
            "750/750 [==============================] - 3s 4ms/step - loss: 0.0057 - accuracy: 0.9983 - val_loss: 0.0643 - val_accuracy: 0.9899\n",
            "Epoch 32/50\n",
            "750/750 [==============================] - 3s 4ms/step - loss: 0.0010 - accuracy: 0.9997 - val_loss: 0.0518 - val_accuracy: 0.9922\n",
            "Epoch 33/50\n",
            "750/750 [==============================] - 4s 5ms/step - loss: 0.0036 - accuracy: 0.9987 - val_loss: 0.0642 - val_accuracy: 0.9908\n",
            "Epoch 34/50\n",
            "750/750 [==============================] - 3s 4ms/step - loss: 9.9042e-04 - accuracy: 0.9996 - val_loss: 0.0681 - val_accuracy: 0.9897\n",
            "Epoch 35/50\n",
            "750/750 [==============================] - 3s 4ms/step - loss: 0.0025 - accuracy: 0.9992 - val_loss: 0.0751 - val_accuracy: 0.9907\n",
            "Epoch 36/50\n",
            "750/750 [==============================] - 3s 4ms/step - loss: 6.2559e-04 - accuracy: 0.9999 - val_loss: 0.0622 - val_accuracy: 0.9927\n",
            "Epoch 37/50\n",
            "750/750 [==============================] - 4s 5ms/step - loss: 1.9058e-05 - accuracy: 1.0000 - val_loss: 0.0633 - val_accuracy: 0.9924\n",
            "Epoch 38/50\n",
            "750/750 [==============================] - 3s 4ms/step - loss: 7.3083e-06 - accuracy: 1.0000 - val_loss: 0.0642 - val_accuracy: 0.9925\n",
            "Epoch 39/50\n",
            "750/750 [==============================] - 3s 4ms/step - loss: 4.8244e-06 - accuracy: 1.0000 - val_loss: 0.0656 - val_accuracy: 0.9925\n",
            "Epoch 40/50\n",
            "750/750 [==============================] - 3s 4ms/step - loss: 3.4744e-06 - accuracy: 1.0000 - val_loss: 0.0669 - val_accuracy: 0.9924\n",
            "Epoch 41/50\n",
            "750/750 [==============================] - 4s 5ms/step - loss: 2.6104e-06 - accuracy: 1.0000 - val_loss: 0.0679 - val_accuracy: 0.9926\n",
            "Epoch 42/50\n",
            "750/750 [==============================] - 3s 4ms/step - loss: 1.8607e-06 - accuracy: 1.0000 - val_loss: 0.0694 - val_accuracy: 0.9928\n",
            "Epoch 43/50\n",
            "750/750 [==============================] - 3s 4ms/step - loss: 1.4183e-06 - accuracy: 1.0000 - val_loss: 0.0706 - val_accuracy: 0.9927\n",
            "Epoch 44/50\n",
            "750/750 [==============================] - 4s 5ms/step - loss: 9.9807e-07 - accuracy: 1.0000 - val_loss: 0.0721 - val_accuracy: 0.9927\n",
            "Epoch 45/50\n",
            "750/750 [==============================] - 3s 5ms/step - loss: 7.0425e-07 - accuracy: 1.0000 - val_loss: 0.0733 - val_accuracy: 0.9927\n",
            "Epoch 46/50\n",
            "750/750 [==============================] - 3s 4ms/step - loss: 5.0441e-07 - accuracy: 1.0000 - val_loss: 0.0748 - val_accuracy: 0.9927\n",
            "Epoch 47/50\n",
            "750/750 [==============================] - 3s 4ms/step - loss: 3.5880e-07 - accuracy: 1.0000 - val_loss: 0.0764 - val_accuracy: 0.9927\n",
            "Epoch 48/50\n",
            "750/750 [==============================] - 4s 5ms/step - loss: 2.5759e-07 - accuracy: 1.0000 - val_loss: 0.0778 - val_accuracy: 0.9927\n",
            "Epoch 49/50\n",
            "750/750 [==============================] - 3s 4ms/step - loss: 1.8581e-07 - accuracy: 1.0000 - val_loss: 0.0794 - val_accuracy: 0.9931\n",
            "Epoch 50/50\n",
            "750/750 [==============================] - 4s 5ms/step - loss: 1.1905e-07 - accuracy: 1.0000 - val_loss: 0.0813 - val_accuracy: 0.9928\n"
          ]
        }
      ]
    },
    {
      "cell_type": "code",
      "source": [
        "# Evaluate on test data\n",
        "Y_pred=np.argmax(model.predict(X_test),axis=1)\n",
        "Y_test_labels=np.argmax(Y_test,axis =1)\n",
        "\n",
        "# Performance analysis\n",
        "print(classification_report(Y_test_labels,Y_pred)) #Prints a classification report.\n",
        "#print(confusion_matrix(Y_test_labels,Y_pred)) #Prints a confusion matrix.\n",
        "print(\"Accuracy:\",accuracy_score(Y_test_labels,Y_pred)) #Prints the accuracy score.\n",
        "\n",
        "# Plot training history\n",
        "plt.plot(history.history['accuracy'], label='accuracy') #Plots the training accuracy over epochs\n",
        "plt.plot(history.history['val_accuracy'], label='val_accuracy') #Plots the validation accuracy over epochs.\n",
        "plt.xlabel('Epoch') #Sets the label for the x-axis to 'Epoch'.\n",
        "plt.ylabel('Accuracy') #Sets the label for the y-axis to 'Accuracy'.\n",
        "plt.legend(loc='upper right') #Adds a legend to the plot, positioned at the lower right.\n",
        "plt.show() #Displays the plot."
      ],
      "metadata": {
        "colab": {
          "base_uri": "https://localhost:8080/",
          "height": 779
        },
        "id": "RoGUMyGbmcnG",
        "outputId": "36f6b5ef-245c-4a2c-9ff6-50aa10601f73"
      },
      "execution_count": 5,
      "outputs": [
        {
          "output_type": "stream",
          "name": "stdout",
          "text": [
            "313/313 [==============================] - 1s 2ms/step\n",
            "              precision    recall  f1-score   support\n",
            "\n",
            "           0       0.99      1.00      1.00       980\n",
            "           1       0.99      1.00      0.99      1135\n",
            "           2       1.00      0.99      0.99      1032\n",
            "           3       1.00      1.00      1.00      1010\n",
            "           4       0.99      1.00      0.99       982\n",
            "           5       0.99      0.99      0.99       892\n",
            "           6       1.00      0.99      0.99       958\n",
            "           7       0.99      1.00      0.99      1028\n",
            "           8       0.99      0.99      0.99       974\n",
            "           9       0.99      0.99      0.99      1009\n",
            "\n",
            "    accuracy                           0.99     10000\n",
            "   macro avg       0.99      0.99      0.99     10000\n",
            "weighted avg       0.99      0.99      0.99     10000\n",
            "\n",
            "Accuracy: 0.9936\n"
          ]
        },
        {
          "output_type": "display_data",
          "data": {
            "text/plain": [
              "<Figure size 640x480 with 1 Axes>"
            ],
            "image/png": "[encoded data removed]"
          },
          "metadata": {}
        }
      ]
    }
  ]
}